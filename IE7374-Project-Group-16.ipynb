{
 "cells": [
  {
   "cell_type": "markdown",
   "id": "fbfda709",
   "metadata": {},
   "source": [
    "# Classifying High-Energy Seismic Bumps using Machine Learning"
   ]
  },
  {
   "cell_type": "markdown",
   "id": "ec872404",
   "metadata": {},
   "source": [
    "### Step 1: Import and Clean the Data\n",
    "\n",
    "#### 1.1 Import the .arff file and convert it into a dataframe"
   ]
  },
  {
   "cell_type": "code",
   "execution_count": 1,
   "id": "da8076f6",
   "metadata": {},
   "outputs": [],
   "source": [
    "from scipy.io import arff\n",
    "import pandas as pd\n",
    "import numpy as np\n",
    "import matplotlib.pyplot as plt\n",
    "from collections import Counter\n",
    "from imblearn.over_sampling import SMOTE\n",
    "from tqdm import tqdm\n",
    "from sklearn.svm import SVC\n",
    "from sklearn.model_selection import train_test_split\n",
    "from sklearn import preprocessing\n",
    "from scipy import optimize\n",
    "from sklearn.metrics import roc_auc_score, accuracy_score, f1_score"
   ]
  },
  {
   "cell_type": "code",
   "execution_count": 2,
   "id": "461c2f6b",
   "metadata": {},
   "outputs": [
    {
     "data": {
      "text/html": [
       "<div>\n",
       "<style scoped>\n",
       "    .dataframe tbody tr th:only-of-type {\n",
       "        vertical-align: middle;\n",
       "    }\n",
       "\n",
       "    .dataframe tbody tr th {\n",
       "        vertical-align: top;\n",
       "    }\n",
       "\n",
       "    .dataframe thead th {\n",
       "        text-align: right;\n",
       "    }\n",
       "</style>\n",
       "<table border=\"1\" class=\"dataframe\">\n",
       "  <thead>\n",
       "    <tr style=\"text-align: right;\">\n",
       "      <th></th>\n",
       "      <th>seismic</th>\n",
       "      <th>seismoacoustic</th>\n",
       "      <th>shift</th>\n",
       "      <th>genergy</th>\n",
       "      <th>gpuls</th>\n",
       "      <th>gdenergy</th>\n",
       "      <th>gdpuls</th>\n",
       "      <th>ghazard</th>\n",
       "      <th>nbumps</th>\n",
       "      <th>nbumps2</th>\n",
       "      <th>nbumps3</th>\n",
       "      <th>nbumps4</th>\n",
       "      <th>nbumps5</th>\n",
       "      <th>nbumps6</th>\n",
       "      <th>nbumps7</th>\n",
       "      <th>nbumps89</th>\n",
       "      <th>energy</th>\n",
       "      <th>maxenergy</th>\n",
       "      <th>class</th>\n",
       "    </tr>\n",
       "  </thead>\n",
       "  <tbody>\n",
       "    <tr>\n",
       "      <th>0</th>\n",
       "      <td>b'a'</td>\n",
       "      <td>b'a'</td>\n",
       "      <td>b'N'</td>\n",
       "      <td>15180.0</td>\n",
       "      <td>48.0</td>\n",
       "      <td>-72.0</td>\n",
       "      <td>-72.0</td>\n",
       "      <td>b'a'</td>\n",
       "      <td>0.0</td>\n",
       "      <td>0.0</td>\n",
       "      <td>0.0</td>\n",
       "      <td>0.0</td>\n",
       "      <td>0.0</td>\n",
       "      <td>0.0</td>\n",
       "      <td>0.0</td>\n",
       "      <td>0.0</td>\n",
       "      <td>0.0</td>\n",
       "      <td>0.0</td>\n",
       "      <td>b'0'</td>\n",
       "    </tr>\n",
       "    <tr>\n",
       "      <th>1</th>\n",
       "      <td>b'a'</td>\n",
       "      <td>b'a'</td>\n",
       "      <td>b'N'</td>\n",
       "      <td>14720.0</td>\n",
       "      <td>33.0</td>\n",
       "      <td>-70.0</td>\n",
       "      <td>-79.0</td>\n",
       "      <td>b'a'</td>\n",
       "      <td>1.0</td>\n",
       "      <td>0.0</td>\n",
       "      <td>1.0</td>\n",
       "      <td>0.0</td>\n",
       "      <td>0.0</td>\n",
       "      <td>0.0</td>\n",
       "      <td>0.0</td>\n",
       "      <td>0.0</td>\n",
       "      <td>2000.0</td>\n",
       "      <td>2000.0</td>\n",
       "      <td>b'0'</td>\n",
       "    </tr>\n",
       "    <tr>\n",
       "      <th>2</th>\n",
       "      <td>b'a'</td>\n",
       "      <td>b'a'</td>\n",
       "      <td>b'N'</td>\n",
       "      <td>8050.0</td>\n",
       "      <td>30.0</td>\n",
       "      <td>-81.0</td>\n",
       "      <td>-78.0</td>\n",
       "      <td>b'a'</td>\n",
       "      <td>0.0</td>\n",
       "      <td>0.0</td>\n",
       "      <td>0.0</td>\n",
       "      <td>0.0</td>\n",
       "      <td>0.0</td>\n",
       "      <td>0.0</td>\n",
       "      <td>0.0</td>\n",
       "      <td>0.0</td>\n",
       "      <td>0.0</td>\n",
       "      <td>0.0</td>\n",
       "      <td>b'0'</td>\n",
       "    </tr>\n",
       "    <tr>\n",
       "      <th>3</th>\n",
       "      <td>b'a'</td>\n",
       "      <td>b'a'</td>\n",
       "      <td>b'N'</td>\n",
       "      <td>28820.0</td>\n",
       "      <td>171.0</td>\n",
       "      <td>-23.0</td>\n",
       "      <td>40.0</td>\n",
       "      <td>b'a'</td>\n",
       "      <td>1.0</td>\n",
       "      <td>0.0</td>\n",
       "      <td>1.0</td>\n",
       "      <td>0.0</td>\n",
       "      <td>0.0</td>\n",
       "      <td>0.0</td>\n",
       "      <td>0.0</td>\n",
       "      <td>0.0</td>\n",
       "      <td>3000.0</td>\n",
       "      <td>3000.0</td>\n",
       "      <td>b'0'</td>\n",
       "    </tr>\n",
       "    <tr>\n",
       "      <th>4</th>\n",
       "      <td>b'a'</td>\n",
       "      <td>b'a'</td>\n",
       "      <td>b'N'</td>\n",
       "      <td>12640.0</td>\n",
       "      <td>57.0</td>\n",
       "      <td>-63.0</td>\n",
       "      <td>-52.0</td>\n",
       "      <td>b'a'</td>\n",
       "      <td>0.0</td>\n",
       "      <td>0.0</td>\n",
       "      <td>0.0</td>\n",
       "      <td>0.0</td>\n",
       "      <td>0.0</td>\n",
       "      <td>0.0</td>\n",
       "      <td>0.0</td>\n",
       "      <td>0.0</td>\n",
       "      <td>0.0</td>\n",
       "      <td>0.0</td>\n",
       "      <td>b'0'</td>\n",
       "    </tr>\n",
       "  </tbody>\n",
       "</table>\n",
       "</div>"
      ],
      "text/plain": [
       "  seismic seismoacoustic shift  genergy  gpuls  gdenergy  gdpuls ghazard  \\\n",
       "0    b'a'           b'a'  b'N'  15180.0   48.0     -72.0   -72.0    b'a'   \n",
       "1    b'a'           b'a'  b'N'  14720.0   33.0     -70.0   -79.0    b'a'   \n",
       "2    b'a'           b'a'  b'N'   8050.0   30.0     -81.0   -78.0    b'a'   \n",
       "3    b'a'           b'a'  b'N'  28820.0  171.0     -23.0    40.0    b'a'   \n",
       "4    b'a'           b'a'  b'N'  12640.0   57.0     -63.0   -52.0    b'a'   \n",
       "\n",
       "   nbumps  nbumps2  nbumps3  nbumps4  nbumps5  nbumps6  nbumps7  nbumps89  \\\n",
       "0     0.0      0.0      0.0      0.0      0.0      0.0      0.0       0.0   \n",
       "1     1.0      0.0      1.0      0.0      0.0      0.0      0.0       0.0   \n",
       "2     0.0      0.0      0.0      0.0      0.0      0.0      0.0       0.0   \n",
       "3     1.0      0.0      1.0      0.0      0.0      0.0      0.0       0.0   \n",
       "4     0.0      0.0      0.0      0.0      0.0      0.0      0.0       0.0   \n",
       "\n",
       "   energy  maxenergy class  \n",
       "0     0.0        0.0  b'0'  \n",
       "1  2000.0     2000.0  b'0'  \n",
       "2     0.0        0.0  b'0'  \n",
       "3  3000.0     3000.0  b'0'  \n",
       "4     0.0        0.0  b'0'  "
      ]
     },
     "execution_count": 2,
     "metadata": {},
     "output_type": "execute_result"
    }
   ],
   "source": [
    "data = arff.loadarff('seismic-bumps.arff')\n",
    "df = pd.DataFrame(data[0])\n",
    "df.head()"
   ]
  },
  {
   "cell_type": "code",
   "execution_count": 3,
   "id": "4ded2d1e",
   "metadata": {},
   "outputs": [],
   "source": [
    "# fix broken string columns by decoding them to utf-8 \n",
    "df[df.select_dtypes(['object']).columns] = df.select_dtypes(['object']).apply(lambda x: x.str.decode(\"utf-8\"))"
   ]
  },
  {
   "cell_type": "code",
   "execution_count": 4,
   "id": "4793b1ef",
   "metadata": {},
   "outputs": [
    {
     "data": {
      "text/html": [
       "<div>\n",
       "<style scoped>\n",
       "    .dataframe tbody tr th:only-of-type {\n",
       "        vertical-align: middle;\n",
       "    }\n",
       "\n",
       "    .dataframe tbody tr th {\n",
       "        vertical-align: top;\n",
       "    }\n",
       "\n",
       "    .dataframe thead th {\n",
       "        text-align: right;\n",
       "    }\n",
       "</style>\n",
       "<table border=\"1\" class=\"dataframe\">\n",
       "  <thead>\n",
       "    <tr style=\"text-align: right;\">\n",
       "      <th></th>\n",
       "      <th>seismic</th>\n",
       "      <th>seismoacoustic</th>\n",
       "      <th>shift</th>\n",
       "      <th>genergy</th>\n",
       "      <th>gpuls</th>\n",
       "      <th>gdenergy</th>\n",
       "      <th>gdpuls</th>\n",
       "      <th>ghazard</th>\n",
       "      <th>nbumps</th>\n",
       "      <th>nbumps2</th>\n",
       "      <th>nbumps3</th>\n",
       "      <th>nbumps4</th>\n",
       "      <th>nbumps5</th>\n",
       "      <th>nbumps6</th>\n",
       "      <th>nbumps7</th>\n",
       "      <th>nbumps89</th>\n",
       "      <th>energy</th>\n",
       "      <th>maxenergy</th>\n",
       "      <th>class</th>\n",
       "    </tr>\n",
       "  </thead>\n",
       "  <tbody>\n",
       "    <tr>\n",
       "      <th>0</th>\n",
       "      <td>a</td>\n",
       "      <td>a</td>\n",
       "      <td>N</td>\n",
       "      <td>15180.0</td>\n",
       "      <td>48.0</td>\n",
       "      <td>-72.0</td>\n",
       "      <td>-72.0</td>\n",
       "      <td>a</td>\n",
       "      <td>0.0</td>\n",
       "      <td>0.0</td>\n",
       "      <td>0.0</td>\n",
       "      <td>0.0</td>\n",
       "      <td>0.0</td>\n",
       "      <td>0.0</td>\n",
       "      <td>0.0</td>\n",
       "      <td>0.0</td>\n",
       "      <td>0.0</td>\n",
       "      <td>0.0</td>\n",
       "      <td>0</td>\n",
       "    </tr>\n",
       "    <tr>\n",
       "      <th>1</th>\n",
       "      <td>a</td>\n",
       "      <td>a</td>\n",
       "      <td>N</td>\n",
       "      <td>14720.0</td>\n",
       "      <td>33.0</td>\n",
       "      <td>-70.0</td>\n",
       "      <td>-79.0</td>\n",
       "      <td>a</td>\n",
       "      <td>1.0</td>\n",
       "      <td>0.0</td>\n",
       "      <td>1.0</td>\n",
       "      <td>0.0</td>\n",
       "      <td>0.0</td>\n",
       "      <td>0.0</td>\n",
       "      <td>0.0</td>\n",
       "      <td>0.0</td>\n",
       "      <td>2000.0</td>\n",
       "      <td>2000.0</td>\n",
       "      <td>0</td>\n",
       "    </tr>\n",
       "    <tr>\n",
       "      <th>2</th>\n",
       "      <td>a</td>\n",
       "      <td>a</td>\n",
       "      <td>N</td>\n",
       "      <td>8050.0</td>\n",
       "      <td>30.0</td>\n",
       "      <td>-81.0</td>\n",
       "      <td>-78.0</td>\n",
       "      <td>a</td>\n",
       "      <td>0.0</td>\n",
       "      <td>0.0</td>\n",
       "      <td>0.0</td>\n",
       "      <td>0.0</td>\n",
       "      <td>0.0</td>\n",
       "      <td>0.0</td>\n",
       "      <td>0.0</td>\n",
       "      <td>0.0</td>\n",
       "      <td>0.0</td>\n",
       "      <td>0.0</td>\n",
       "      <td>0</td>\n",
       "    </tr>\n",
       "    <tr>\n",
       "      <th>3</th>\n",
       "      <td>a</td>\n",
       "      <td>a</td>\n",
       "      <td>N</td>\n",
       "      <td>28820.0</td>\n",
       "      <td>171.0</td>\n",
       "      <td>-23.0</td>\n",
       "      <td>40.0</td>\n",
       "      <td>a</td>\n",
       "      <td>1.0</td>\n",
       "      <td>0.0</td>\n",
       "      <td>1.0</td>\n",
       "      <td>0.0</td>\n",
       "      <td>0.0</td>\n",
       "      <td>0.0</td>\n",
       "      <td>0.0</td>\n",
       "      <td>0.0</td>\n",
       "      <td>3000.0</td>\n",
       "      <td>3000.0</td>\n",
       "      <td>0</td>\n",
       "    </tr>\n",
       "    <tr>\n",
       "      <th>4</th>\n",
       "      <td>a</td>\n",
       "      <td>a</td>\n",
       "      <td>N</td>\n",
       "      <td>12640.0</td>\n",
       "      <td>57.0</td>\n",
       "      <td>-63.0</td>\n",
       "      <td>-52.0</td>\n",
       "      <td>a</td>\n",
       "      <td>0.0</td>\n",
       "      <td>0.0</td>\n",
       "      <td>0.0</td>\n",
       "      <td>0.0</td>\n",
       "      <td>0.0</td>\n",
       "      <td>0.0</td>\n",
       "      <td>0.0</td>\n",
       "      <td>0.0</td>\n",
       "      <td>0.0</td>\n",
       "      <td>0.0</td>\n",
       "      <td>0</td>\n",
       "    </tr>\n",
       "  </tbody>\n",
       "</table>\n",
       "</div>"
      ],
      "text/plain": [
       "  seismic seismoacoustic shift  genergy  gpuls  gdenergy  gdpuls ghazard  \\\n",
       "0       a              a     N  15180.0   48.0     -72.0   -72.0       a   \n",
       "1       a              a     N  14720.0   33.0     -70.0   -79.0       a   \n",
       "2       a              a     N   8050.0   30.0     -81.0   -78.0       a   \n",
       "3       a              a     N  28820.0  171.0     -23.0    40.0       a   \n",
       "4       a              a     N  12640.0   57.0     -63.0   -52.0       a   \n",
       "\n",
       "   nbumps  nbumps2  nbumps3  nbumps4  nbumps5  nbumps6  nbumps7  nbumps89  \\\n",
       "0     0.0      0.0      0.0      0.0      0.0      0.0      0.0       0.0   \n",
       "1     1.0      0.0      1.0      0.0      0.0      0.0      0.0       0.0   \n",
       "2     0.0      0.0      0.0      0.0      0.0      0.0      0.0       0.0   \n",
       "3     1.0      0.0      1.0      0.0      0.0      0.0      0.0       0.0   \n",
       "4     0.0      0.0      0.0      0.0      0.0      0.0      0.0       0.0   \n",
       "\n",
       "   energy  maxenergy class  \n",
       "0     0.0        0.0     0  \n",
       "1  2000.0     2000.0     0  \n",
       "2     0.0        0.0     0  \n",
       "3  3000.0     3000.0     0  \n",
       "4     0.0        0.0     0  "
      ]
     },
     "execution_count": 4,
     "metadata": {},
     "output_type": "execute_result"
    }
   ],
   "source": [
    "df.head()"
   ]
  },
  {
   "cell_type": "code",
   "execution_count": 5,
   "id": "acb21a3b",
   "metadata": {},
   "outputs": [],
   "source": [
    "df[\"class\"] = df[\"class\"].astype(np.int64)"
   ]
  },
  {
   "cell_type": "markdown",
   "id": "8e82a27f",
   "metadata": {},
   "source": [
    "### Step 2: Feature Engineering, Data Cleaning and EDA"
   ]
  },
  {
   "cell_type": "code",
   "execution_count": 6,
   "id": "6fa6020c",
   "metadata": {},
   "outputs": [],
   "source": [
    "# Convert seismic intensity levels from categorical to numerical\n",
    "# Note: we assign values in an increasing order so that it can represent rising intensity levels\n",
    "def map_seismic_intensity(i):\n",
    "    if i == 'a':\n",
    "        return 0\n",
    "    elif i == 'b':\n",
    "        return 1\n",
    "    elif i == 'c':\n",
    "        return 2\n",
    "    elif i == 'd':\n",
    "        return 3\n",
    "    \n",
    "    \n",
    "# Map the associated columns\n",
    "df[\"seismic\"] = df[\"seismic\"].apply(lambda x: map_seismic_intensity(x))\n",
    "df[\"seismoacoustic\"] = df[\"seismoacoustic\"].apply(lambda x: map_seismic_intensity(x))\n",
    "df[\"ghazard\"] = df[\"ghazard\"].apply(lambda x: map_seismic_intensity(x))\n",
    "\n",
    "# Convert the shift column to binary\n",
    "df[\"shift\"] = df[\"shift\"].apply(lambda x: 1 if x == 'W' else 0)\n",
    "\n",
    "df[\"class\"] = np.where(df['class'] == 0, -1, 1)\n",
    "\n",
    "# Fill NAs\n",
    "df = df.fillna(0)"
   ]
  },
  {
   "cell_type": "code",
   "execution_count": 7,
   "id": "7541f8f1",
   "metadata": {},
   "outputs": [
    {
     "data": {
      "text/html": [
       "<div>\n",
       "<style scoped>\n",
       "    .dataframe tbody tr th:only-of-type {\n",
       "        vertical-align: middle;\n",
       "    }\n",
       "\n",
       "    .dataframe tbody tr th {\n",
       "        vertical-align: top;\n",
       "    }\n",
       "\n",
       "    .dataframe thead th {\n",
       "        text-align: right;\n",
       "    }\n",
       "</style>\n",
       "<table border=\"1\" class=\"dataframe\">\n",
       "  <thead>\n",
       "    <tr style=\"text-align: right;\">\n",
       "      <th></th>\n",
       "      <th>seismic</th>\n",
       "      <th>seismoacoustic</th>\n",
       "      <th>shift</th>\n",
       "      <th>genergy</th>\n",
       "      <th>gpuls</th>\n",
       "      <th>gdenergy</th>\n",
       "      <th>gdpuls</th>\n",
       "      <th>ghazard</th>\n",
       "      <th>nbumps</th>\n",
       "      <th>nbumps2</th>\n",
       "      <th>nbumps3</th>\n",
       "      <th>nbumps4</th>\n",
       "      <th>nbumps5</th>\n",
       "      <th>nbumps6</th>\n",
       "      <th>nbumps7</th>\n",
       "      <th>nbumps89</th>\n",
       "      <th>energy</th>\n",
       "      <th>maxenergy</th>\n",
       "      <th>class</th>\n",
       "    </tr>\n",
       "  </thead>\n",
       "  <tbody>\n",
       "    <tr>\n",
       "      <th>0</th>\n",
       "      <td>0</td>\n",
       "      <td>0</td>\n",
       "      <td>0</td>\n",
       "      <td>15180.0</td>\n",
       "      <td>48.0</td>\n",
       "      <td>-72.0</td>\n",
       "      <td>-72.0</td>\n",
       "      <td>0</td>\n",
       "      <td>0.0</td>\n",
       "      <td>0.0</td>\n",
       "      <td>0.0</td>\n",
       "      <td>0.0</td>\n",
       "      <td>0.0</td>\n",
       "      <td>0.0</td>\n",
       "      <td>0.0</td>\n",
       "      <td>0.0</td>\n",
       "      <td>0.0</td>\n",
       "      <td>0.0</td>\n",
       "      <td>-1</td>\n",
       "    </tr>\n",
       "    <tr>\n",
       "      <th>1</th>\n",
       "      <td>0</td>\n",
       "      <td>0</td>\n",
       "      <td>0</td>\n",
       "      <td>14720.0</td>\n",
       "      <td>33.0</td>\n",
       "      <td>-70.0</td>\n",
       "      <td>-79.0</td>\n",
       "      <td>0</td>\n",
       "      <td>1.0</td>\n",
       "      <td>0.0</td>\n",
       "      <td>1.0</td>\n",
       "      <td>0.0</td>\n",
       "      <td>0.0</td>\n",
       "      <td>0.0</td>\n",
       "      <td>0.0</td>\n",
       "      <td>0.0</td>\n",
       "      <td>2000.0</td>\n",
       "      <td>2000.0</td>\n",
       "      <td>-1</td>\n",
       "    </tr>\n",
       "    <tr>\n",
       "      <th>2</th>\n",
       "      <td>0</td>\n",
       "      <td>0</td>\n",
       "      <td>0</td>\n",
       "      <td>8050.0</td>\n",
       "      <td>30.0</td>\n",
       "      <td>-81.0</td>\n",
       "      <td>-78.0</td>\n",
       "      <td>0</td>\n",
       "      <td>0.0</td>\n",
       "      <td>0.0</td>\n",
       "      <td>0.0</td>\n",
       "      <td>0.0</td>\n",
       "      <td>0.0</td>\n",
       "      <td>0.0</td>\n",
       "      <td>0.0</td>\n",
       "      <td>0.0</td>\n",
       "      <td>0.0</td>\n",
       "      <td>0.0</td>\n",
       "      <td>-1</td>\n",
       "    </tr>\n",
       "    <tr>\n",
       "      <th>3</th>\n",
       "      <td>0</td>\n",
       "      <td>0</td>\n",
       "      <td>0</td>\n",
       "      <td>28820.0</td>\n",
       "      <td>171.0</td>\n",
       "      <td>-23.0</td>\n",
       "      <td>40.0</td>\n",
       "      <td>0</td>\n",
       "      <td>1.0</td>\n",
       "      <td>0.0</td>\n",
       "      <td>1.0</td>\n",
       "      <td>0.0</td>\n",
       "      <td>0.0</td>\n",
       "      <td>0.0</td>\n",
       "      <td>0.0</td>\n",
       "      <td>0.0</td>\n",
       "      <td>3000.0</td>\n",
       "      <td>3000.0</td>\n",
       "      <td>-1</td>\n",
       "    </tr>\n",
       "    <tr>\n",
       "      <th>4</th>\n",
       "      <td>0</td>\n",
       "      <td>0</td>\n",
       "      <td>0</td>\n",
       "      <td>12640.0</td>\n",
       "      <td>57.0</td>\n",
       "      <td>-63.0</td>\n",
       "      <td>-52.0</td>\n",
       "      <td>0</td>\n",
       "      <td>0.0</td>\n",
       "      <td>0.0</td>\n",
       "      <td>0.0</td>\n",
       "      <td>0.0</td>\n",
       "      <td>0.0</td>\n",
       "      <td>0.0</td>\n",
       "      <td>0.0</td>\n",
       "      <td>0.0</td>\n",
       "      <td>0.0</td>\n",
       "      <td>0.0</td>\n",
       "      <td>-1</td>\n",
       "    </tr>\n",
       "  </tbody>\n",
       "</table>\n",
       "</div>"
      ],
      "text/plain": [
       "   seismic  seismoacoustic  shift  genergy  gpuls  gdenergy  gdpuls  ghazard  \\\n",
       "0        0               0      0  15180.0   48.0     -72.0   -72.0        0   \n",
       "1        0               0      0  14720.0   33.0     -70.0   -79.0        0   \n",
       "2        0               0      0   8050.0   30.0     -81.0   -78.0        0   \n",
       "3        0               0      0  28820.0  171.0     -23.0    40.0        0   \n",
       "4        0               0      0  12640.0   57.0     -63.0   -52.0        0   \n",
       "\n",
       "   nbumps  nbumps2  nbumps3  nbumps4  nbumps5  nbumps6  nbumps7  nbumps89  \\\n",
       "0     0.0      0.0      0.0      0.0      0.0      0.0      0.0       0.0   \n",
       "1     1.0      0.0      1.0      0.0      0.0      0.0      0.0       0.0   \n",
       "2     0.0      0.0      0.0      0.0      0.0      0.0      0.0       0.0   \n",
       "3     1.0      0.0      1.0      0.0      0.0      0.0      0.0       0.0   \n",
       "4     0.0      0.0      0.0      0.0      0.0      0.0      0.0       0.0   \n",
       "\n",
       "   energy  maxenergy  class  \n",
       "0     0.0        0.0     -1  \n",
       "1  2000.0     2000.0     -1  \n",
       "2     0.0        0.0     -1  \n",
       "3  3000.0     3000.0     -1  \n",
       "4     0.0        0.0     -1  "
      ]
     },
     "execution_count": 7,
     "metadata": {},
     "output_type": "execute_result"
    }
   ],
   "source": [
    "df.head()"
   ]
  },
  {
   "cell_type": "code",
   "execution_count": 8,
   "id": "96d1bd0b",
   "metadata": {},
   "outputs": [
    {
     "data": {
      "image/png": "[encoded data removed]",
      "text/plain": [
       "<Figure size 432x288 with 1 Axes>"
      ]
     },
     "metadata": {
      "needs_background": "light"
     },
     "output_type": "display_data"
    }
   ],
   "source": [
    "# Multivariate correlation analysis\n",
    "\n",
    "plt.imshow(df.corr().fillna(0), cmap='hot', interpolation='nearest')\n",
    "plt.show()\n"
   ]
  },
  {
   "cell_type": "code",
   "execution_count": 9,
   "id": "906be1db",
   "metadata": {},
   "outputs": [
    {
     "data": {
      "text/plain": [
       "-1    2414\n",
       " 1     170\n",
       "Name: class, dtype: int64"
      ]
     },
     "execution_count": 9,
     "metadata": {},
     "output_type": "execute_result"
    }
   ],
   "source": [
    "# A look at class distributions\n",
    "df[\"class\"].value_counts()"
   ]
  },
  {
   "cell_type": "code",
   "execution_count": 10,
   "id": "46d421a6",
   "metadata": {},
   "outputs": [],
   "source": [
    "neg_samples = df[df[\"class\"] == -1].sample(n=170)\n",
    "pos_samples = df[df[\"class\"] == 1]\n",
    "\n",
    "df = pd.concat([neg_samples, pos_samples])"
   ]
  },
  {
   "cell_type": "code",
   "execution_count": 11,
   "id": "ff3498f4",
   "metadata": {},
   "outputs": [
    {
     "data": {
      "text/plain": [
       "-1    170\n",
       " 1    170\n",
       "Name: class, dtype: int64"
      ]
     },
     "execution_count": 11,
     "metadata": {},
     "output_type": "execute_result"
    }
   ],
   "source": [
    "df[\"class\"].value_counts()"
   ]
  },
  {
   "cell_type": "markdown",
   "id": "c6983b80",
   "metadata": {},
   "source": [
    "As evident, there aren't many rows for the positive label. This data is highly imbalanced and can skew the results of our model."
   ]
  },
  {
   "cell_type": "markdown",
   "id": "dc40f4b0",
   "metadata": {},
   "source": [
    "## Step 3: Normalizing the Data, Creating Train and Test sets"
   ]
  },
  {
   "cell_type": "code",
   "execution_count": 12,
   "id": "3e3d95d3",
   "metadata": {},
   "outputs": [],
   "source": [
    "X = df.iloc[:, :18]\n",
    "y = df.iloc[:, 18]\n",
    "\n",
    "\n",
    "standard_scaler = preprocessing.StandardScaler()\n",
    "X = standard_scaler.fit_transform(X)\n",
    "\n",
    "X_train, X_test, y_train, y_test = train_test_split(X, y, test_size = 0.3, random_state = 42)"
   ]
  },
  {
   "cell_type": "markdown",
   "id": "2ac4bfd7",
   "metadata": {},
   "source": [
    "### Step 4: Creating and Testing Models"
   ]
  },
  {
   "cell_type": "markdown",
   "id": "8cf2cdb0",
   "metadata": {},
   "source": [
    "#### 4.1: Linear Support Vector Machine"
   ]
  },
  {
   "cell_type": "code",
   "execution_count": 13,
   "id": "9cdab96c",
   "metadata": {},
   "outputs": [],
   "source": [
    "class SupportVectorMachine:\n",
    "    def __init__(self, X, y, max_iterations = 1000, lr = 1e-3, lmbda = 0.1, tolerance = 1e-5):\n",
    "        self.X = np.array(X, dtype=np.float64)\n",
    "        self.y = np.array(y, dtype=np.float64)\n",
    "        self.max_iterations = max_iterations\n",
    "        self.lr = lr\n",
    "        self.lmbda = lmbda\n",
    "        self.tolerance = tolerance\n",
    "    \n",
    "    def add_intercept(self):\n",
    "        self.X = np.column_stack([np.ones([self.X.shape[0], 1]) , self.X])\n",
    "        \n",
    "    def cost(self, X, y, W):\n",
    "        n = len(y)\n",
    "        \n",
    "        distances = np.dot(X, W)\n",
    "        distances[distances < 0] = 0\n",
    "        \n",
    "\n",
    "        hinge_loss = self.lmbda * np.sum(distances)/n\n",
    "        \n",
    "        cost = 1/2*(np.linalg.norm(W)) + hinge_loss\n",
    "        \n",
    "        return cost\n",
    "    \n",
    "    def calculate_gradient(self, X, y, W):\n",
    "        distance = 1 - (np.multiply(y, np.dot(X, W)))\n",
    "        dw = np.zeros(len(W))\n",
    "\n",
    "        for i, d in enumerate(distance):\n",
    "            if max(0, d) == 0:\n",
    "                di = W\n",
    "            else:\n",
    "                di = W - self.lmbda*y[i]*X[i]\n",
    "            dw += di\n",
    "\n",
    "        dw = dw/len(y)\n",
    "        return dw\n",
    "\n",
    "    def gradient_descent(self):\n",
    "        self.error_sequences = []\n",
    "        \n",
    "        last = float('inf')\n",
    "        \n",
    "        \n",
    "        for i in tqdm(range(self.max_iterations)):\n",
    "            \n",
    "            self.W = self.W - self.lr * self.calculate_gradient(self.X, self.y, self.W)\n",
    "            \n",
    "\n",
    "            cost = self.cost(self.X, self.y, self.W)\n",
    "            diff = abs(cost - last)\n",
    "            last = cost\n",
    "            \n",
    "            if i % 100 == 0:\n",
    "                print(\"Epoch: {}    Cost: {}\".format(i, cost))\n",
    "            \n",
    "            self.error_sequences.append(cost)\n",
    "            \n",
    "            \n",
    "            if diff < self.tolerance:\n",
    "                print(\"Model Stopped\")\n",
    "                break\n",
    "            \n",
    "    \n",
    "    def predict(self, X, test = False):\n",
    "        \n",
    "        if test:\n",
    "            X = np.column_stack([np.ones([X.shape[0], 1]) , X])\n",
    "        \n",
    "        y_pred = np.sign(np.dot(X, self.W))\n",
    "        \n",
    "        return y_pred\n",
    "\n",
    "    \n",
    "    def run(self):\n",
    "        \n",
    "        self.add_intercept()\n",
    "        \n",
    "        np.random.seed(15)\n",
    "        self.W = np.random.randn(self.X.shape[1])\n",
    "        \n",
    "        self.gradient_descent()\n",
    "        \n",
    "        print(\"Training Complete!\")\n",
    "        \n",
    "        plt.plot(self.error_sequences)"
   ]
  },
  {
   "cell_type": "code",
   "execution_count": 14,
   "id": "f744c105",
   "metadata": {},
   "outputs": [
    {
     "name": "stderr",
     "output_type": "stream",
     "text": [
      "  3%|█▎                                   | 524/15000 [00:00<00:05, 2637.18it/s]"
     ]
    },
    {
     "name": "stdout",
     "output_type": "stream",
     "text": [
      "Epoch: 0    Cost: 1.7521067557938421\n",
      "Epoch: 100    Cost: 1.5830838315370859\n",
      "Epoch: 200    Cost: 1.4301740380809131\n",
      "Epoch: 300    Cost: 1.2918947004252177\n",
      "Epoch: 400    Cost: 1.1668592136032385\n",
      "Epoch: 500    Cost: 1.0537760863719197\n"
     ]
    },
    {
     "name": "stderr",
     "output_type": "stream",
     "text": [
      "  7%|██▌                                 | 1065/15000 [00:00<00:05, 2624.71it/s]"
     ]
    },
    {
     "name": "stdout",
     "output_type": "stream",
     "text": [
      "Epoch: 600    Cost: 0.9514962172976619\n",
      "Epoch: 700    Cost: 0.8590209295027109\n",
      "Epoch: 800    Cost: 0.7754000651723201\n",
      "Epoch: 900    Cost: 0.6998284084600552\n",
      "Epoch: 1000    Cost: 0.631564444905563\n",
      "Epoch: 1100    Cost: 0.569933244153887\n",
      "Epoch: 1200    Cost: 0.5142923308112848\n",
      "Epoch: 1300    Cost: 0.4640417087807399\n"
     ]
    },
    {
     "name": "stderr",
     "output_type": "stream",
     "text": [
      " 14%|█████                               | 2105/15000 [00:00<00:05, 2554.26it/s]"
     ]
    },
    {
     "name": "stdout",
     "output_type": "stream",
     "text": [
      "Epoch: 1400    Cost: 0.41865624311655203\n",
      "Epoch: 1500    Cost: 0.37766610861865896\n",
      "Epoch: 1600    Cost: 0.34063814889870375\n",
      "Epoch: 1700    Cost: 0.30727157263073795\n",
      "Epoch: 1800    Cost: 0.2771907546104453\n",
      "Epoch: 1900    Cost: 0.2500893879259749\n",
      "Epoch: 2000    Cost: 0.22581016295182427\n",
      "Epoch: 2100    Cost: 0.20417249107325394\n"
     ]
    },
    {
     "name": "stderr",
     "output_type": "stream",
     "text": [
      " 17%|██████▎                             | 2611/15000 [00:01<00:04, 2482.64it/s]"
     ]
    },
    {
     "name": "stdout",
     "output_type": "stream",
     "text": [
      "Epoch: 2200    Cost: 0.1847344419101978\n",
      "Epoch: 2300    Cost: 0.16727007030622643\n",
      "Epoch: 2400    Cost: 0.15161773766170372\n",
      "Epoch: 2500    Cost: 0.13770941435977369\n",
      "Epoch: 2600    Cost: 0.1253519061834136\n",
      "Epoch: 2700    Cost: 0.1143405615137634\n",
      "Epoch: 2800    Cost: 0.1045897347067658"
     ]
    },
    {
     "name": "stderr",
     "output_type": "stream",
     "text": [
      " 21%|███████▍                            | 3105/15000 [00:01<00:04, 2438.53it/s]"
     ]
    },
    {
     "name": "stdout",
     "output_type": "stream",
     "text": [
      "\n",
      "Epoch: 2900    Cost: 0.09598942360229348\n",
      "Epoch: 3000    Cost: 0.08849938874384888\n",
      "Epoch: 3100    Cost: 0.08200063341365015\n",
      "Epoch: 3200    Cost: 0.07634499833978177\n",
      "Epoch: 3300    Cost: 0.07145852108653965\n"
     ]
    },
    {
     "name": "stderr",
     "output_type": "stream",
     "text": [
      " 26%|█████████▏                          | 3839/15000 [00:01<00:04, 2408.80it/s]"
     ]
    },
    {
     "name": "stdout",
     "output_type": "stream",
     "text": [
      "Epoch: 3400    Cost: 0.06726332813200309\n",
      "Epoch: 3500    Cost: 0.06368408984051897\n",
      "Epoch: 3600    Cost: 0.06066443722460537\n",
      "Epoch: 3700    Cost: 0.05812866089733188\n",
      "Epoch: 3800    Cost: 0.0560191963188524\n",
      "Epoch: 3900    Cost: 0.054286967890747176\n"
     ]
    },
    {
     "name": "stderr",
     "output_type": "stream",
     "text": [
      " 27%|█████████▊                          | 4108/15000 [00:01<00:04, 2488.06it/s]\n"
     ]
    },
    {
     "name": "stdout",
     "output_type": "stream",
     "text": [
      "Epoch: 4000    Cost: 0.05287344246334168\n",
      "Epoch: 4100    Cost: 0.05173364265153951\n",
      "Model Stopped\n",
      "Training Complete!\n"
     ]
    },
    {
     "data": {
      "image/png": "[encoded data removed]",
      "text/plain": [
       "<Figure size 432x288 with 1 Axes>"
      ]
     },
     "metadata": {
      "needs_background": "light"
     },
     "output_type": "display_data"
    }
   ],
   "source": [
    "svm = SupportVectorMachine(X_train, y_train, max_iterations = 15000)\n",
    "svm.run()"
   ]
  },
  {
   "cell_type": "code",
   "execution_count": 15,
   "id": "ab83846a",
   "metadata": {},
   "outputs": [
    {
     "name": "stdout",
     "output_type": "stream",
     "text": [
      "ROCAUC score: 0.6562500000000001\n",
      "Accuracy score: 0.6666666666666666\n",
      "F1 score: 0.575\n"
     ]
    }
   ],
   "source": [
    "predict = svm.predict(X_test, test = True) # check performance\n",
    "print('ROCAUC score:',roc_auc_score(y_test, predict))\n",
    "print('Accuracy score:',accuracy_score(y_test, predict))\n",
    "print('F1 score:',f1_score(y_test, predict, pos_label=1))"
   ]
  },
  {
   "cell_type": "markdown",
   "id": "b5f3867f",
   "metadata": {},
   "source": [
    "#### 4.2: Using a Non-Linear SVM by using a RBF Kernel"
   ]
  },
  {
   "cell_type": "code",
   "execution_count": 16,
   "id": "459a9baf",
   "metadata": {},
   "outputs": [],
   "source": [
    "class NonLinearSVM:\n",
    "    def __init__(self, X, y, C):\n",
    "        self.X = np.array(X)\n",
    "        self.y = np.array(y)\n",
    "        self.n_samples = len(X)\n",
    "        self.C = C\n",
    "        self.beta = None\n",
    "        self.w = None\n",
    "        self.supportVectors = None\n",
    "        \n",
    "    def rbf(self, x, y):\n",
    "        \"\"\"\n",
    "            Radial Basis Function Kernel\n",
    "        \"\"\"\n",
    "        diff = x - y\n",
    "        return np.exp(-np.dot(diff, diff) * len(x)/2)\n",
    "    \n",
    "    \n",
    "    def run(self):\n",
    "        \"\"\"\n",
    "            Runs Quadratic Optimization to solve the Dual Lagrangian Form of a Soft Margin SVM\n",
    "        \"\"\"\n",
    "        X = self.X\n",
    "        y = self.y\n",
    "        n_samples = self.n_samples\n",
    "        \n",
    "\n",
    "        XX = np.apply_along_axis(lambda x1 : np.apply_along_axis(lambda x2:  self.rbf(x1, x2), 1, X), 1, X) \n",
    "        Xy = X * y[:, np.newaxis]\n",
    "        yp = y.reshape(-1,1)\n",
    "\n",
    "        \n",
    "        GramXy = XX * np.matmul(yp, yp.T)\n",
    "        \n",
    "        print(\"Gram Matrix: \", GramXy.shape)\n",
    "        \n",
    "        def Ld0(G, beta):\n",
    "            return beta.sum() - 0.5 * beta.dot(beta.dot(G))\n",
    "\n",
    "        def partialDerivation(G, beta):\n",
    "            return np.ones_like(beta) - beta.dot(G)\n",
    "        \n",
    "        # Constraints on beta\n",
    "        # equality ==> y.dot(beta) = 0\n",
    "        # inequalities ==> 2N constraints\n",
    "        # first half for beta <= C and -beta <= 0\n",
    "        \n",
    "        # Initialize lagrangian multipliers betas\n",
    "        beta = np.ones(n_samples).reshape(1,-1) \n",
    "        \n",
    "        # We need to add the following constraints:\n",
    "        # 1. Equality Constraint: Sigma(beta_i * y_i) = 0 (i.e summation of betas with the \n",
    "        # target y should be equal to zero)\n",
    "        # 2. Inequality Constraint: 0 < bi < C\n",
    "        B = np.concatenate((np.zeros(n_samples), self.C * np.ones(n_samples)))\n",
    "        A = np.vstack((-np.eye(n_samples),np.eye(n_samples)))\n",
    "        \n",
    "        constraints = ({'type': 'eq','fun': lambda beta_i : np.dot(beta_i, y), 'jac': lambda beta_i: y},\n",
    "                      \n",
    "                      {'type': 'ineq', 'fun': lambda beta_i : B - np.dot(A, beta_i), 'jac' : lambda a: -A})\n",
    "        \n",
    "        \n",
    "        print(\"Optimizing......\")\n",
    "\n",
    "        optres = optimize.minimize(fun = lambda a: -Ld0(GramXy, a),\n",
    "                                   x0 = beta,\n",
    "                                   method = 'SLSQP',\n",
    "                                   jac = lambda a: -partialDerivation(GramXy,a),\n",
    "                                   constraints = constraints)\n",
    "        \n",
    "        print(\"Solved!\")\n",
    "        \n",
    "        self.beta = optres.x\n",
    "        self.w = np.sum((self.beta[:,np.newaxis] * Xy),axis = 0)\n",
    "        epsilon = 1e-6\n",
    "        \n",
    "        self.supportVectors = X[self.beta > epsilon]\n",
    "        \n",
    "        supportVectorsDistance = np.matmul(self.supportVectors, self.w)\n",
    "        \n",
    "        minDistance = np.argmin(supportVectorsDistance)\n",
    "        \n",
    "        supportLabels = y[self.beta > epsilon]\n",
    "        self.intercept = supportLabels[minDistance] - supportVectorsDistance[minDistance]\n",
    "        self.supportbetaY = supportLabels * self.beta[self.beta > epsilon]\n",
    "     \n",
    "    def predict(self, X):\n",
    "        \"\"\"\n",
    "            Predict labels for a given X\n",
    "        \"\"\"\n",
    "        def _predict(x):\n",
    "            x1 = np.apply_along_axis(lambda s: self.rbf(s, x), 1, self.supportVectors)\n",
    "            x2 = x1 * self.supportbetaY[:, np.newaxis]\n",
    "            return np.sum(x2)\n",
    "\n",
    "        d = np.apply_along_axis(_predict, 1, X)\n",
    "        return 2 * (d > 0) - 1   "
   ]
  },
  {
   "cell_type": "code",
   "execution_count": 17,
   "id": "d15a94b4",
   "metadata": {},
   "outputs": [
    {
     "name": "stdout",
     "output_type": "stream",
     "text": [
      "Gram Matrix:  (238, 238)\n",
      "Optimizing......\n",
      "Solved!\n"
     ]
    }
   ],
   "source": [
    "clf = NonLinearSVM(X_train, y_train, C = 0.01)\n",
    "clf.run()"
   ]
  },
  {
   "cell_type": "code",
   "execution_count": 18,
   "id": "7bd4dfa7",
   "metadata": {},
   "outputs": [
    {
     "name": "stdout",
     "output_type": "stream",
     "text": [
      "ROCAUC score: 0.5162037037037037\n",
      "Accuracy score: 0.5196078431372549\n",
      "F1 score: 0.4731182795698925\n"
     ]
    }
   ],
   "source": [
    "y_pred = clf.predict(X_test)\n",
    "\n",
    "# check performance\n",
    "print('ROCAUC score:',roc_auc_score(y_test, y_pred))\n",
    "print('Accuracy score:',accuracy_score(y_test, y_pred))\n",
    "print('F1 score:',f1_score(y_test, y_pred, pos_label=1))"
   ]
  },
  {
   "cell_type": "code",
   "execution_count": 19,
   "id": "45f6abe1",
   "metadata": {},
   "outputs": [],
   "source": [
    "import matplotlib.colors as pltcolors\n",
    "colors = ['blue','red']\n",
    "cmap = pltcolors.ListedColormap(colors)\n",
    "nFeatures = 17\n",
    "N = 1000\n",
    "\n",
    "def plotLine(ax, xRange, w, x0, label, color='grey', linestyle='-', alpha=1.):\n",
    "    \"\"\" Plot a (separating) line given the normal vector (weights) and point of intercept \"\"\"\n",
    "    if type(x0) == int or type(x0) == float or type(x0) == np.float64:\n",
    "        x0 = [0, -x0 / w[1]]\n",
    "    yy = -(w[0] / w[1]) * (xRange - x0[0]) + x0[1]\n",
    "    ax.plot(xRange, yy, color=color, label=label, linestyle=linestyle)\n",
    "    \n",
    "def plotSvm(X, y, support=None, w=None, intercept=0., label='Data', separatorLabel='Separator', \n",
    "            ax=None, bound=[[-1., 1.], [-1., 1.]]):\n",
    "    \"\"\" Plot the SVM separation, and margin \"\"\"\n",
    "    if ax is None:\n",
    "        fig, ax = plt.subplots(1)\n",
    "    \n",
    "    im = ax.scatter(X[:,11], X[:,16], c=y, cmap=cmap, alpha=0.5, label=label)\n",
    "    if support is not None:\n",
    "        ax.scatter(support[:,4], support[:,16], label='Support', s=80, facecolors='none', \n",
    "                   edgecolors='y', color='y')\n",
    "        print(\"Number of support vectors = %d\" % (len(support)))\n",
    "    if w is not None:\n",
    "        xx = np.array(bound[0])\n",
    "        plotLine(ax, xx, w, intercept, separatorLabel)\n",
    "        # Plot margin\n",
    "        if support is not None:\n",
    "            signedDist = np.matmul(support, w)\n",
    "            margin = np.max(signedDist) - np.min(signedDist) * np.sqrt(np.dot(w, w))\n",
    "            supportMaxNeg = support[np.argmin(signedDist)]\n",
    "            plotLine(ax, xx, w, supportMaxNeg, 'Margin -', linestyle='-.', alpha=0.8)\n",
    "            supportMaxPos = support[np.argmax(signedDist)]\n",
    "            plotLine(ax, xx, w, supportMaxPos, 'Margin +', linestyle='--', alpha=0.8)\n",
    "            ax.set_title('Margin = %.3f' % (margin))\n",
    "    ax.legend(loc='upper left')\n",
    "    ax.grid()\n",
    "    ax.set_xlim(bound[0])\n",
    "    ax.set_ylim(bound[1])\n",
    "    cb = plt.colorbar(im, ax=ax)\n",
    "    loc = np.arange(-1,1,1)\n",
    "    cb.set_ticks(loc)\n",
    "    cb.set_ticklabels(['-1','1'])"
   ]
  },
  {
   "cell_type": "code",
   "execution_count": 20,
   "id": "ba4699a3",
   "metadata": {},
   "outputs": [
    {
     "name": "stdout",
     "output_type": "stream",
     "text": [
      "Number of support vectors = 238\n"
     ]
    },
    {
     "data": {
      "image/png": "[encoded data removed]",
      "text/plain": [
       "<Figure size 720x720 with 2 Axes>"
      ]
     },
     "metadata": {
      "needs_background": "light"
     },
     "output_type": "display_data"
    }
   ],
   "source": [
    "fig , ax = plt.subplots(1, figsize = (10,10))\n",
    "plotSvm(np.array(X_train),np.array(y_train), support= np.array(clf.supportVectors), w = clf.w, intercept = clf.intercept,ax=ax)"
   ]
  },
  {
   "cell_type": "code",
   "execution_count": null,
   "id": "dc920f8e",
   "metadata": {},
   "outputs": [],
   "source": []
  },
  {
   "cell_type": "code",
   "execution_count": null,
   "id": "10247b5e",
   "metadata": {},
   "outputs": [],
   "source": []
  },
  {
   "cell_type": "code",
   "execution_count": null,
   "id": "fea86ddd",
   "metadata": {},
   "outputs": [],
   "source": []
  }
 ],
 "metadata": {
  "kernelspec": {
   "display_name": "Python 3 (ipykernel)",
   "language": "python",
   "name": "python3"
  },
  "language_info": {
   "codemirror_mode": {
    "name": "ipython",
    "version": 3
   },
   "file_extension": ".py",
   "mimetype": "text/x-python",
   "name": "python",
   "nbconvert_exporter": "python",
   "pygments_lexer": "ipython3",
   "version": "3.9.5"
  }
 },
 "nbformat": 4,
 "nbformat_minor": 5
}
